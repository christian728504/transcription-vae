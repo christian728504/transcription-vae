{
 "cells": [
  {
   "cell_type": "code",
   "execution_count": 1,
   "metadata": {},
   "outputs": [],
   "source": [
    "import pandas as pd\n",
    "import numpy as np\n",
    "import pickle"
   ]
  },
  {
   "cell_type": "code",
   "execution_count": 2,
   "metadata": {},
   "outputs": [],
   "source": [
    "with open('embedding_3.pkl', 'rb') as f:\n",
    "    embedding = pickle.load(f)\n",
    "\n",
    "ccre_df = pd.read_csv('ccre_df.tsv', sep='\\t')\n",
    "\n",
    "# Create UMAP dataframe\n",
    "umap_df = pd.DataFrame({\n",
    "    'UMAP1': embedding[:, 0],\n",
    "    'UMAP2': embedding[:, 1],\n",
    "    'cCRE_type': ccre_df['cCRE_type'].values,\n",
    "    'chrom': ccre_df['chrom'].values,\n",
    "    'start': ccre_df['start'].values,\n",
    "    'end': ccre_df['end'].values,\n",
    "    'rDHS': ccre_df['rDHS'].values\n",
    "})\n",
    "\n",
    "# Calculate length\n",
    "umap_df['length'] = umap_df['end'] - umap_df['start']\n",
    "\n",
    "umap_df.reindex()\n",
    "\n",
    "umap_df.to_csv('umap_df.tsv', sep='\\t', index=False)"
   ]
  },
  {
   "cell_type": "code",
   "execution_count": null,
   "metadata": {},
   "outputs": [],
   "source": []
  },
  {
   "cell_type": "code",
   "execution_count": null,
   "metadata": {},
   "outputs": [],
   "source": []
  }
 ],
 "metadata": {
  "kernelspec": {
   "display_name": ".venv",
   "language": "python",
   "name": "python3"
  },
  "language_info": {
   "codemirror_mode": {
    "name": "ipython",
    "version": 3
   },
   "file_extension": ".py",
   "mimetype": "text/x-python",
   "name": "python",
   "nbconvert_exporter": "python",
   "pygments_lexer": "ipython3",
   "version": "3.10.12"
  }
 },
 "nbformat": 4,
 "nbformat_minor": 2
}
