{
 "cells": [
  {
   "cell_type": "code",
   "execution_count": 1,
   "metadata": {},
   "outputs": [],
   "source": [
    "import os\n",
    "\n",
    "os.chdir('/zata/zippy/andrewsg/projects/transcription-vae')\n",
    "\n",
    "from encode_metadata_parser import EncodeMetadataParser\n",
    "import pandas as pd"
   ]
  },
  {
   "cell_type": "code",
   "execution_count": 2,
   "metadata": {},
   "outputs": [
    {
     "name": "stderr",
     "output_type": "stream",
     "text": [
      "100%|██████████| 75/75 [00:04<00:00, 18.21it/s]"
     ]
    },
    {
     "name": "stdout",
     "output_type": "stream",
     "text": [
      "Number of unique experiments: 75\n",
      "\n",
      "Sample of retrieved metadata:\n",
      "           exp          acc    assay target  \\\n",
      "0  ENCSR379BAF  ENCFF669LZR  RNA-seq   None   \n",
      "1  ENCSR379BAF  ENCFF290WID  RNA-seq   None   \n",
      "2  ENCSR591KOB  ENCFF654MFX  RNA-seq   None   \n",
      "3  ENCSR591KOB  ENCFF459NCQ  RNA-seq   None   \n",
      "4  ENCSR325BJP  ENCFF206GMC  RNA-seq   None   \n",
      "\n",
      "                                   biosample_summary biosample_term_id  \\\n",
      "0  Homo sapiens K562 treated with 5 μM MB-3 for 4...       EFO:0002067   \n",
      "1  Homo sapiens K562 treated with 5 μM MB-3 for 4...       EFO:0002067   \n",
      "2  Homo sapiens K562 treated with 10 μM Crizotini...       EFO:0002067   \n",
      "3  Homo sapiens K562 treated with 10 μM Crizotini...       EFO:0002067   \n",
      "4  Homo sapiens K562 treated with 25 μM Galeteron...       EFO:0002067   \n",
      "\n",
      "  biosample_term_name                                cell_slims  biorep  \\\n",
      "0                K562  leukocyte,cancer cell,hematopoietic cell       2   \n",
      "1                K562  leukocyte,cancer cell,hematopoietic cell       1   \n",
      "2                K562  leukocyte,cancer cell,hematopoietic cell       2   \n",
      "3                K562  leukocyte,cancer cell,hematopoietic cell       1   \n",
      "4                K562  leukocyte,cancer cell,hematopoietic cell       1   \n",
      "\n",
      "  file_format             output_type strand_specificity  preferred_default  \\\n",
      "0      bigWig  signal of unique reads         unstranded               True   \n",
      "1      bigWig  signal of unique reads         unstranded              False   \n",
      "2      bigWig  signal of unique reads         unstranded               True   \n",
      "3      bigWig  signal of unique reads         unstranded              False   \n",
      "4      bigWig  signal of unique reads         unstranded               True   \n",
      "\n",
      "                                                 url  \\\n",
      "0  https://encode-public.s3.amazonaws.com/2021/12...   \n",
      "1  https://encode-public.s3.amazonaws.com/2021/12...   \n",
      "2  https://encode-public.s3.amazonaws.com/2021/12...   \n",
      "3  https://encode-public.s3.amazonaws.com/2021/12...   \n",
      "4  https://encode-public.s3.amazonaws.com/2021/12...   \n",
      "\n",
      "                             md5sum  \n",
      "0  ce865c799f2c144f092676eb9dbe5ae6  \n",
      "1  8fde805ea3c9502d366e1307aef5258a  \n",
      "2  abe04b59fc86876b9ea69a7a494b6576  \n",
      "3  c57d597833097941e42e5e71e5f022b6  \n",
      "4  227d9639b60f2a8f1011bbe9a938927d  \n"
     ]
    },
    {
     "name": "stderr",
     "output_type": "stream",
     "text": [
      "\n"
     ]
    }
   ],
   "source": [
    "# Initialize parser with authentication\n",
    "parser = EncodeMetadataParser(auth_id=\"YJFJCRV7\", auth_pw=\"eo2olr5lf3v3ah3i\")\n",
    "\n",
    "# Search URL for RNA-seq experiments\n",
    "url = 'https://www.encodeproject.org/search/?type=Experiment&assay_title=total+RNA-seq&assay_title=long+read+RNA-seq&assay_title=RAMPAGE&assay_title=CAGE&assay_title=BruChase-seq&assay_title=PRO-cap&assay_title=BruUV-seq&assay_title=Bru-seq&biosample_ontology.term_name=K562&replicates.library.biosample.donor.organism.scientific_name=Homo+sapiens&assembly=GRCh38&status=released&award.rfa=ENCODE4&award.rfa=ENCODE3&limit=all&format=json'\n",
    "\n",
    "# Get metadata\n",
    "metadata_df = parser.get_metadata(url)\n",
    "\n",
    "# Save metadata to CSV\n",
    "metadata_df.to_csv('metadata.tsv', sep='\\t', index=False)\n",
    "\n",
    "# Display first few rows of metadata\n",
    "print(\"\\nSample of retrieved metadata:\")\n",
    "print(metadata_df.head())"
   ]
  },
  {
   "cell_type": "code",
   "execution_count": null,
   "metadata": {},
   "outputs": [],
   "source": []
  }
 ],
 "metadata": {
  "kernelspec": {
   "display_name": "Python 3 (ipykernel)",
   "language": "python",
   "name": "python3"
  },
  "language_info": {
   "codemirror_mode": {
    "name": "ipython",
    "version": 3
   },
   "file_extension": ".py",
   "mimetype": "text/x-python",
   "name": "python",
   "nbconvert_exporter": "python",
   "pygments_lexer": "ipython3",
   "version": "3.10.12"
  }
 },
 "nbformat": 4,
 "nbformat_minor": 2
}
