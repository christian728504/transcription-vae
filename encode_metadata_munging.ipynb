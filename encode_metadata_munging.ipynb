{
 "cells": [
  {
   "cell_type": "code",
   "execution_count": 3,
   "metadata": {},
   "outputs": [],
   "source": [
    "import os\n",
    "\n",
    "os.chdir('/zata/zippy/andrewsg/projects/transcription-vae')\n",
    "\n",
    "from encode_metadata_parser import EncodeMetadataParser\n",
    "import pandas as pd"
   ]
  },
  {
   "cell_type": "code",
   "execution_count": 6,
   "metadata": {},
   "outputs": [
    {
     "name": "stderr",
     "output_type": "stream",
     "text": [
      "100%|██████████| 82/82 [00:04<00:00, 16.54it/s]\n"
     ]
    },
    {
     "name": "stdout",
     "output_type": "stream",
     "text": [
      "Number of unique experiments: 81\n",
      "\n",
      "Sample of retrieved metadata:\n",
      "           exp          acc              assay target  \\\n",
      "0  ENCSR983KDL  ENCFF661OEY  long read RNA-seq   None   \n",
      "1  ENCSR983KDL  ENCFF645UVN  long read RNA-seq   None   \n",
      "2  ENCSR949BBZ  ENCFF432HAE            RNA-seq   None   \n",
      "3  ENCSR949BBZ  ENCFF346AHI            RNA-seq   None   \n",
      "4  ENCSR206KFV  ENCFF117CTU            RNA-seq   None   \n",
      "\n",
      "                                   biosample_summary biosample_term_id  \\\n",
      "0                                  Homo sapiens K562       EFO:0002067   \n",
      "1                                  Homo sapiens K562       EFO:0002067   \n",
      "2  Homo sapiens K562 treated with 25 μM Galeteron...       EFO:0002067   \n",
      "3  Homo sapiens K562 treated with 25 μM Galeteron...       EFO:0002067   \n",
      "4  Homo sapiens K562 treated with 25 μM Galeteron...       EFO:0002067   \n",
      "\n",
      "  biosample_term_name                                cell_slims  biorep  \\\n",
      "0                K562  hematopoietic cell,leukocyte,cancer cell       1   \n",
      "1                K562  hematopoietic cell,leukocyte,cancer cell       2   \n",
      "2                K562  hematopoietic cell,leukocyte,cancer cell       2   \n",
      "3                K562  hematopoietic cell,leukocyte,cancer cell       1   \n",
      "4                K562  hematopoietic cell,leukocyte,cancer cell       1   \n",
      "\n",
      "  file_format             output_type strand_specificity  preferred_default  \\\n",
      "0         bam              alignments         unstranded              False   \n",
      "1         bam              alignments         unstranded              False   \n",
      "2      bigWig  signal of unique reads         unstranded               True   \n",
      "3      bigWig  signal of unique reads         unstranded              False   \n",
      "4      bigWig  signal of unique reads         unstranded               True   \n",
      "\n",
      "                                                 url  \\\n",
      "0  https://encode-public.s3.amazonaws.com/2021/01...   \n",
      "1  https://encode-public.s3.amazonaws.com/2021/01...   \n",
      "2  https://encode-public.s3.amazonaws.com/2021/12...   \n",
      "3  https://encode-public.s3.amazonaws.com/2021/12...   \n",
      "4  https://encode-public.s3.amazonaws.com/2021/12...   \n",
      "\n",
      "                             md5sum  \n",
      "0  73d6ec59af80f4508a4d6a91775cb70f  \n",
      "1  eea6a9fa85d5cbbe1690b628027cb2a5  \n",
      "2  7f7e9e3bef40880d866cfe50e71bf971  \n",
      "3  e14b019dcb7a93aeb3b374ad47dc3aba  \n",
      "4  84ac312d72a624e5f6b552780c5dded8  \n"
     ]
    }
   ],
   "source": [
    "# Initialize parser with authentication\n",
    "parser = EncodeMetadataParser(auth_id=\"YJFJCRV7\", auth_pw=\"eo2olr5lf3v3ah3i\")\n",
    "\n",
    "# Search URL for RNA-seq experiments\n",
    "# url = 'https://www.encodeproject.org/search/?type=Experiment&assay_title=total+RNA-seq&assay_title=long+read+RNA-seq&assay_title=RAMPAGE&assay_title=CAGE&assay_title=BruChase-seq&assay_title=PRO-cap&assay_title=BruUV-seq&assay_title=Bru-seq&biosample_ontology.term_name=K562&replicates.library.biosample.donor.organism.scientific_name=Homo+sapiens&assembly=GRCh38&status=released&award.rfa=ENCODE4&award.rfa=ENCODE3&limit=all&format=json'\n",
    "url = 'https://www.encodeproject.org/search/?type=Experiment&assay_title=total+RNA-seq&assay_title=long+read+RNA-seq&assay_title=RAMPAGE&assay_title=CAGE&assay_title=BruChase-seq&assay_title=PRO-cap&assay_title=BruUV-seq&assay_title=Bru-seq&biosample_ontology.term_name=K562&replicates.library.biosample.donor.organism.scientific_name=Homo+sapiens&assembly=GRCh38&status=released&limit=all&format=json'\n",
    "\n",
    "# Get metadata\n",
    "metadata_df = parser.get_metadata(url)\n",
    "\n",
    "# Save metadata to CSV\n",
    "metadata_df.to_csv('metadata.tsv', sep='\\t', index=False)\n",
    "\n",
    "# Display first few rows of metadata\n",
    "print(\"\\nSample of retrieved metadata:\")\n",
    "print(metadata_df.head())"
   ]
  },
  {
   "cell_type": "code",
   "execution_count": null,
   "metadata": {},
   "outputs": [],
   "source": []
  }
 ],
 "metadata": {
  "kernelspec": {
   "display_name": ".venv",
   "language": "python",
   "name": "python3"
  },
  "language_info": {
   "codemirror_mode": {
    "name": "ipython",
    "version": 3
   },
   "file_extension": ".py",
   "mimetype": "text/x-python",
   "name": "python",
   "nbconvert_exporter": "python",
   "pygments_lexer": "ipython3",
   "version": "3.10.12"
  }
 },
 "nbformat": 4,
 "nbformat_minor": 2
}
